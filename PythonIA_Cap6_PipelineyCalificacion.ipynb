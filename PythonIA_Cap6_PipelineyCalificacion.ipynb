{
  "nbformat": 4,
  "nbformat_minor": 0,
  "metadata": {
    "colab": {
      "name": "PythonIA_Cap6_PipelineyCalificacion.ipynb",
      "provenance": [],
      "authorship_tag": "ABX9TyNpz7QEaqFmObYD5A2k2VbP",
      "include_colab_link": true
    },
    "kernelspec": {
      "name": "python3",
      "display_name": "Python 3"
    },
    "language_info": {
      "name": "python"
    }
  },
  "cells": [
    {
      "cell_type": "markdown",
      "metadata": {
        "id": "view-in-github",
        "colab_type": "text"
      },
      "source": [
        "<a href=\"https://colab.research.google.com/github/rkurFIUNA/1ParcialIA/blob/main/PythonIA_Cap6_PipelineyCalificacion.ipynb\" target=\"_parent\"><img src=\"https://colab.research.google.com/assets/colab-badge.svg\" alt=\"Open In Colab\"/></a>"
      ]
    },
    {
      "cell_type": "markdown",
      "metadata": {
        "id": "NJ97P8Dgfcv-"
      },
      "source": [
        "##**CAPITULO 6**\n",
        "\n",
        "**Calificacion de modelo y  buena practica para calibracion de high parameter**\n",
        "\n"
      ]
    },
    {
      "cell_type": "markdown",
      "metadata": {
        "id": "HJ2BqmVZfusO"
      },
      "source": [
        "#**6.1 Mayor eficiencia de flujo de trabajo por medio de Pipeline**\n",
        "\n",
        " En este capitulo se mostrara una clase llamada **Pipeline** de la libreria **scikit-learn**. Utilizando esta clase, se hace posible aprender un modelo que contenga paso de transformacion de una cantidad conveniente(?) y predecir nuevos datos utilizando el mismo.\n",
        "\n",
        "  Utilizamos el dataset *Beast Cancer Wiscoinsin*. En este dataset, contiene 569 muestras de un tumor maligno y benigno. En las primeras dos columnas, contiene el ID y el resultado que lo pertenece. El resultado **M** significa Maligno, y **B** Benigno. Desde la columna 3 hasta la columna 32 contiene numeros caracteristicos reales que se obtuvo de la imagen digital. Se utiliza para predecir si es Maligno o Benigno.\n",
        "\n",
        "---\n",
        "\n",
        "**1.** Lectura de Dataset"
      ]
    },
    {
      "cell_type": "code",
      "metadata": {
        "id": "4rwXs5B9fbf2"
      },
      "source": [
        "import pandas as pd\n",
        "df = pd.read_csv('https://archive.ics.uci.edu/ml/machine-learning-databases/'\n",
        "                'breast-cancer-wisconsin/wdbc.data',\n",
        "                header=None)\n"
      ],
      "execution_count": 11,
      "outputs": []
    },
    {
      "cell_type": "markdown",
      "metadata": {
        "id": "jVrgkOhIhj78"
      },
      "source": [
        "**2.** Asignar los 30 caracteristicas en un objeto *Numpy* X, transformar M y B en numero por medio de **LabelEncoder**"
      ]
    },
    {
      "cell_type": "code",
      "metadata": {
        "colab": {
          "base_uri": "https://localhost:8080/"
        },
        "id": "jejWJldBhzEj",
        "outputId": "36c0060b-60eb-4e55-9f04-227fc485a7a4"
      },
      "source": [
        "from sklearn.preprocessing import LabelEncoder\n",
        "X = df.loc[:,2:].values\n",
        "y = df.loc[:,1].values\n",
        "le = LabelEncoder()\n",
        "y = le.fit_transform(y)\n",
        "le.classes_\n",
        "le.transform(['M','B'])"
      ],
      "execution_count": 12,
      "outputs": [
        {
          "output_type": "execute_result",
          "data": {
            "text/plain": [
              "array([1, 0])"
            ]
          },
          "metadata": {
            "tags": []
          },
          "execution_count": 12
        }
      ]
    },
    {
      "cell_type": "markdown",
      "metadata": {
        "id": "19iu6ZZ_iRxs"
      },
      "source": [
        "**3.**Dividimos el dataset en 8:2 para prueba y entrenamiento"
      ]
    },
    {
      "cell_type": "code",
      "metadata": {
        "id": "x_Ni_dSHidYD"
      },
      "source": [
        "from sklearn.model_selection import train_test_split\n",
        "X_train, X_test, y_train, y_test = train_test_split(X,y,test_size = 0.20, random_state = 1,stratify=y)"
      ],
      "execution_count": 23,
      "outputs": []
    },
    {
      "cell_type": "markdown",
      "metadata": {
        "id": "9Ro9ok1EjESb"
      },
      "source": [
        "#**6.1.2. Conexion de Conversor y Predictor por medio de Pipeline.**\n",
        "v\n",
        " Para obtener un resultado optimo, se debe ajustar los valores caracteristicos. Por lo tanto se estandarizara el dataset *Breast Cancer Winsconsin*, para que pueda entrar en distribuidor lineal de regresion logistica. Ademas, utilizando PCA (Principal Component Analisis) queremos comprimir informacion de 30 dimensiones a 2 dimension. Para no realizar las transformaciones de Train y Test de manera separada, vamos a conectar *StandardScaler, PCA, LogisticRegression*  en un pipeline."
      ]
    },
    {
      "cell_type": "code",
      "metadata": {
        "colab": {
          "base_uri": "https://localhost:8080/"
        },
        "id": "4xG0zIn2kFsN",
        "outputId": "87360a5a-70d7-43e5-a719-872fe6ad728e"
      },
      "source": [
        "from sklearn.preprocessing import StandardScaler\n",
        "from sklearn.decomposition import PCA\n",
        "from sklearn.linear_model import LogisticRegression\n",
        "from sklearn.pipeline import make_pipeline\n",
        "\n",
        "# 連結する処理としてスケーリング、主成分分析、ロジスティック回帰を指定\n",
        "pipe_lr = make_pipeline(StandardScaler(),\n",
        "                       PCA(n_components=2),\n",
        "                          LogisticRegression(random_state=1))\n",
        "pipe_lr.fit(X_train, y_train)\n",
        "y_pred = pipe_lr.predict(X_test)\n",
        "print('Test Accuracy: %.3f' % pipe_lr.score(X_test, y_test))"
      ],
      "execution_count": 14,
      "outputs": [
        {
          "output_type": "stream",
          "text": [
            "Test Accuracy: 0.956\n"
          ],
          "name": "stdout"
        }
      ]
    },
    {
      "cell_type": "markdown",
      "metadata": {
        "id": "gGtunLR0m0p5"
      },
      "source": [
        " El objeto *Pipeline* pide una lista tuple. Los primeros valores de los respectivos tuples, es una cadena cualquiera para la identificacion, que se utiliza para acceder a los respectivos elementos."
      ]
    },
    {
      "cell_type": "markdown",
      "metadata": {
        "id": "5uzxMW-8npcY"
      },
      "source": [
        "##**6.2 Calificacion del modelo utilizando \"k-fold cross-validation\"**\n",
        "\n",
        " Uno de los pasos importantes para crear un modelo de aprendizaje, es calificar el modelo utilizando una informacion \"nueva\" para el modelo. Por ejemplo, se realiza el entrenamiento por medio de *training data* . Tal como se vio el capitulo **3** se vio \"evitar el sobreaprendizaje por medio de normalizacion\", si el modelo es muy simple con respecto a training data, se llega a \"falta de aprendizaje\" en cambio si es muy complicado se llega a \"sobreaprendizaje\". Para llegar a un bias y varianza equilibrado, se requiere una calificacion detallada.\n",
        "\n",
        " Veremos dos metodos para la calificacion: \"holdout method\" y \"k-fold cross-validation\" lo cual sirve para determinar la capacidad del modelo de manera puntual.\n",
        "\n"
      ]
    },
    {
      "cell_type": "code",
      "metadata": {
        "colab": {
          "base_uri": "https://localhost:8080/"
        },
        "id": "93dvHt5asMoO",
        "outputId": "0a93eca9-f03c-40cf-8ae5-15c115d49a74"
      },
      "source": [
        "import numpy as np\n",
        "from sklearn.model_selection import StratifiedKFold\n",
        "kfold = StratifiedKFold(n_splits=10, random_state=1).split(X_train, y_train)\n",
        "\n",
        "scores = []\n",
        "\n",
        "for k, (train, test) in enumerate(kfold):\n",
        "    pipe_lr.fit(X_train[train], y_train[train])\n",
        "    score = pipe_lr.score(X_train[test], y_train[test])\n",
        "    scores.append(score)\n",
        "    print('Fold: %2d, Class dist.: %s, Acc: %.3f' % (k+1, np.bincount(y_train[train]), score)) \n",
        "\n",
        "print('CV accuracy: %.3f +/- %.3f' %(np.mean(scores),np.std(scores)))\n"
      ],
      "execution_count": 15,
      "outputs": [
        {
          "output_type": "stream",
          "text": [
            "Fold:  1, Class dist.: [256 153], Acc: 0.935\n",
            "Fold:  2, Class dist.: [256 153], Acc: 0.935\n",
            "Fold:  3, Class dist.: [256 153], Acc: 0.957\n",
            "Fold:  4, Class dist.: [256 153], Acc: 0.957\n",
            "Fold:  5, Class dist.: [256 153], Acc: 0.935\n",
            "Fold:  6, Class dist.: [257 153], Acc: 0.956\n",
            "Fold:  7, Class dist.: [257 153], Acc: 0.978\n",
            "Fold:  8, Class dist.: [257 153], Acc: 0.933\n",
            "Fold:  9, Class dist.: [257 153], Acc: 0.956\n",
            "Fold: 10, Class dist.: [257 153], Acc: 0.956\n",
            "CV accuracy: 0.950 +/- 0.014\n"
          ],
          "name": "stdout"
        },
        {
          "output_type": "stream",
          "text": [
            "/usr/local/lib/python3.7/dist-packages/sklearn/model_selection/_split.py:296: FutureWarning: Setting a random_state has no effect since shuffle is False. This will raise an error in 0.24. You should leave random_state to its default (None), or set shuffle=True.\n",
            "  FutureWarning\n"
          ],
          "name": "stderr"
        }
      ]
    },
    {
      "cell_type": "markdown",
      "metadata": {
        "id": "GlEeVwBMYGYg"
      },
      "source": [
        " Primeramente, se inicializa *StratifiedKfold* que ofrece *sklearn.model_selection* por medio del class label *y_train* .\n",
        " \n",
        " La cantidad de division se asigna mediante el parametro *n_folds*\n",
        " El iterador *kfold* se utiliza para procesar los k subsets, mediante bucle for.\n",
        " \n",
        " Utilizando el index que es devuelto por train: \n",
        " \n",
        " *for k, (train,test) in enumerate(kfold)*\n",
        "\n",
        "va aprendiendo mediante el sistema pipeline preparado previamente.\n",
        "\n",
        "Seguidamente utilizamos test para calcular el porcentaje de acierto. Luego se guarda en lista scores.\n"
      ]
    },
    {
      "cell_type": "code",
      "metadata": {
        "colab": {
          "base_uri": "https://localhost:8080/"
        },
        "id": "o0g8M-96aOPO",
        "outputId": "ef954e19-695c-4fc7-b428-89924faf276e"
      },
      "source": [
        "from sklearn.model_selection import cross_val_score\n",
        "#caulcula el porcentaje de acierto por metodo cross_val_score\n",
        "#estimator = objeto clasificador\n",
        "#X = training data\n",
        "#y = valor de predicion\n",
        "#cv = cantidad de divicion\n",
        "#n_jobs = Cantidad de CPU\n",
        "\n",
        "scores = cross_val_score(estimator=pipe_lr,X = X_train,y=y_train,cv=10,n_jobs=-1)\n",
        "print('CV accuracy scores : %s' %scores)\n",
        "print('CV accuracy:%.3f +/- %.3f' % (np.mean(scores),np.std(scores)))"
      ],
      "execution_count": 16,
      "outputs": [
        {
          "output_type": "stream",
          "text": [
            "CV accuracy scores : [0.93478261 0.93478261 0.95652174 0.95652174 0.93478261 0.95555556\n",
            " 0.97777778 0.93333333 0.95555556 0.95555556]\n",
            "CV accuracy:0.950 +/- 0.014\n"
          ],
          "name": "stdout"
        }
      ]
    },
    {
      "cell_type": "markdown",
      "metadata": {
        "id": "cJ035PKVbjf-"
      },
      "source": [
        "##**6.3 CURVA DE APRENDIZAJE Y CURVA DE VERIFICACION**\n",
        "\n",
        " Cuando el modelo es muy complicado con respecto al Training DataSets, es decir, si el grado de libertad del modelo es muy alto o existe demasciados parametros, el modelo tiende a sobre-aprender, y no se generaliza para datos desconocidos.\n",
        " Si se junta la muestras de entrenamiento, puede funcionar para evitar esto. Sin embargo, los costos de juntar datos es muy alto, y muchas veces no es factible. \n"
      ]
    },
    {
      "cell_type": "code",
      "metadata": {
        "colab": {
          "base_uri": "https://localhost:8080/",
          "height": 283
        },
        "id": "XoMjznSjcgsm",
        "outputId": "e71ef846-0e17-49ce-8601-487a1aa700e5"
      },
      "source": [
        "import matplotlib.pyplot as plt\n",
        "from sklearn.model_selection import learning_curve\n",
        "pipe_lr = make_pipeline(StandardScaler(),\n",
        "                       LogisticRegression(penalty='l2', random_state=1))\n",
        "train_sizes, train_scores, test_scores = learning_curve(estimator=pipe_lr, X=X_train,y=y_train,train_sizes=np.linspace(0.1,1.0,10),cv = 10, n_jobs=1)\n",
        "train_mean = np.mean(train_scores,axis=1)\n",
        "train_std = np.std(train_scores, axis=1)\n",
        "test_mean = np.mean(test_scores,axis=1)\n",
        "test_std = np.std(test_scores, axis=1)\n",
        "plt.plot(train_sizes,train_mean,color='blue',marker='o',markersize=5,label='training accuracy')\n",
        "plt.fill_between(train_sizes, train_mean+train_std,train_mean-train_std, alpha=0.15,color='blue')\n",
        "plt.plot(train_sizes,test_mean,color='green',marker='s',markersize=5,label='validation accuracy')\n",
        "plt.fill_between(train_sizes, test_mean+test_std,test_mean-test_std, alpha=0.15,color='green')\n",
        "\n",
        "plt.grid()\n",
        "plt.xlabel('Number of training samples')\n",
        "plt.ylabel('Accuracy')\n",
        "plt.legend(loc='lower right')\n",
        "plt.ylim([0.8,1.0])\n",
        "plt.show()"
      ],
      "execution_count": 17,
      "outputs": [
        {
          "output_type": "display_data",
          "data": {
            "image/png": "[encoded data removed]",
            "text/plain": [
              "<Figure size 432x288 with 1 Axes>"
            ]
          },
          "metadata": {
            "tags": [],
            "needs_background": "light"
          }
        }
      ]
    },
    {
      "cell_type": "markdown",
      "metadata": {
        "id": "ffYtwkMiedQ1"
      },
      "source": [
        " Para controlar el valor absoluto o relativo de training samples que se utiliza al generar la curva de aprendizaje, se utiliza la variable **train_sizes** de **learning_curve**. Aca, al configurar *train_sizes=np.linspace(0.1,1.0,10)* esta utilizando los 10 valores relativos de igual distancias coincidentes al tamano de training data sets. En default, learning_curve utiliza el metodo k-fold cross-validation. **k=10** se configura utilizando el variable **cv**. Finalmente devuelve los scores de cross validation de training y test, para distintos tamanos de training data sets. \n",
        "\n",
        " En este grafico se observa, que los resultados son muy buenos. Sin embargo, entre las curvas se observa una distancia muy pequena por lo que hay una cantidad pequena de sobre-aprendizaje.\n",
        "\n",
        "---\n",
        "\n",
        "##**Conocer el sobre aprendizaje y falta de aprendizaje utilizando curva de verificacion.**\n",
        "\n",
        "La curva de verificacion sirve, mas que determinar la falta o sobre-aprendizaje, para mejorar la capacidad del modelo. Aunque la curva de verificacion, tiene relacion con curva de aprendizaje, en vez de describir la probabilidad de acierto de training y test como una funcion de tamano de muestras, cambia el valor de los parametros del modelo en vez de tamano de muestras.\n",
        "\n",
        "\n",
        "\n"
      ]
    },
    {
      "cell_type": "code",
      "metadata": {
        "colab": {
          "base_uri": "https://localhost:8080/",
          "height": 1000
        },
        "id": "nridrgqAgdqr",
        "outputId": "2a0ccb0e-2fcd-4515-ade2-850613d6727a"
      },
      "source": [
        "from sklearn.model_selection import validation_curve\n",
        "param_range = [0.001, 0.01, 0.1, 1.0, 10.0, 100.0]\n",
        "\n",
        "train_scores, test_scores = validation_curve(estimator=pipe_lr,\n",
        "                                            X=X_train,\n",
        "                                            y=y_train,\n",
        "                                            param_name='logisticregression__C',\n",
        "                                            param_range=param_range,\n",
        "                                            cv=10)\n",
        "train_mean = np.mean(train_scores, axis=1)\n",
        "train_std = np.std(train_scores, axis=1)\n",
        "test_mean = np.mean(test_scores, axis=1)\n",
        "test_std = np.std(test_scores, axis=1)\n",
        "plt.plot(param_range, train_mean,\n",
        "        color='blue', marker='o',\n",
        "        markersize=5,\n",
        "        label='training accuracy')\n",
        "plt.fill_between(param_range,\n",
        "                train_mean + train_std,\n",
        "                train_mean - train_std, alpha=0.15,\n",
        "                color='blue')\n",
        "plt.plot(param_range, test_mean,\n",
        "        color='green', linestyle='--',\n",
        "        marker='s', markersize=5,\n",
        "        label='validation accuracy')\n",
        "plt.fill_between(param_range,\n",
        "                test_mean + test_std,\n",
        "                test_mean - test_std,\n",
        "                alpha=0.15, color='green')\n",
        "plt.grid()\n",
        "plt.xscale('log')\n",
        "plt.legend(loc='lower right')\n",
        "plt.xlabel('Parameter C')\n",
        "plt.ylabel('Accuracy')\n",
        "plt.ylim([0.8, 1.0])\n",
        "plt.tight_layout()\n",
        "plt.show()"
      ],
      "execution_count": 19,
      "outputs": [
        {
          "output_type": "stream",
          "text": [
            "/usr/local/lib/python3.7/dist-packages/sklearn/linear_model/_logistic.py:940: ConvergenceWarning: lbfgs failed to converge (status=1):\n",
            "STOP: TOTAL NO. of ITERATIONS REACHED LIMIT.\n",
            "\n",
            "Increase the number of iterations (max_iter) or scale the data as shown in:\n",
            "    https://scikit-learn.org/stable/modules/preprocessing.html\n",
            "Please also refer to the documentation for alternative solver options:\n",
            "    https://scikit-learn.org/stable/modules/linear_model.html#logistic-regression\n",
            "  extra_warning_msg=_LOGISTIC_SOLVER_CONVERGENCE_MSG)\n",
            "/usr/local/lib/python3.7/dist-packages/sklearn/linear_model/_logistic.py:940: ConvergenceWarning: lbfgs failed to converge (status=1):\n",
            "STOP: TOTAL NO. of ITERATIONS REACHED LIMIT.\n",
            "\n",
            "Increase the number of iterations (max_iter) or scale the data as shown in:\n",
            "    https://scikit-learn.org/stable/modules/preprocessing.html\n",
            "Please also refer to the documentation for alternative solver options:\n",
            "    https://scikit-learn.org/stable/modules/linear_model.html#logistic-regression\n",
            "  extra_warning_msg=_LOGISTIC_SOLVER_CONVERGENCE_MSG)\n",
            "/usr/local/lib/python3.7/dist-packages/sklearn/linear_model/_logistic.py:940: ConvergenceWarning: lbfgs failed to converge (status=1):\n",
            "STOP: TOTAL NO. of ITERATIONS REACHED LIMIT.\n",
            "\n",
            "Increase the number of iterations (max_iter) or scale the data as shown in:\n",
            "    https://scikit-learn.org/stable/modules/preprocessing.html\n",
            "Please also refer to the documentation for alternative solver options:\n",
            "    https://scikit-learn.org/stable/modules/linear_model.html#logistic-regression\n",
            "  extra_warning_msg=_LOGISTIC_SOLVER_CONVERGENCE_MSG)\n",
            "/usr/local/lib/python3.7/dist-packages/sklearn/linear_model/_logistic.py:940: ConvergenceWarning: lbfgs failed to converge (status=1):\n",
            "STOP: TOTAL NO. of ITERATIONS REACHED LIMIT.\n",
            "\n",
            "Increase the number of iterations (max_iter) or scale the data as shown in:\n",
            "    https://scikit-learn.org/stable/modules/preprocessing.html\n",
            "Please also refer to the documentation for alternative solver options:\n",
            "    https://scikit-learn.org/stable/modules/linear_model.html#logistic-regression\n",
            "  extra_warning_msg=_LOGISTIC_SOLVER_CONVERGENCE_MSG)\n",
            "/usr/local/lib/python3.7/dist-packages/sklearn/linear_model/_logistic.py:940: ConvergenceWarning: lbfgs failed to converge (status=1):\n",
            "STOP: TOTAL NO. of ITERATIONS REACHED LIMIT.\n",
            "\n",
            "Increase the number of iterations (max_iter) or scale the data as shown in:\n",
            "    https://scikit-learn.org/stable/modules/preprocessing.html\n",
            "Please also refer to the documentation for alternative solver options:\n",
            "    https://scikit-learn.org/stable/modules/linear_model.html#logistic-regression\n",
            "  extra_warning_msg=_LOGISTIC_SOLVER_CONVERGENCE_MSG)\n",
            "/usr/local/lib/python3.7/dist-packages/sklearn/linear_model/_logistic.py:940: ConvergenceWarning: lbfgs failed to converge (status=1):\n",
            "STOP: TOTAL NO. of ITERATIONS REACHED LIMIT.\n",
            "\n",
            "Increase the number of iterations (max_iter) or scale the data as shown in:\n",
            "    https://scikit-learn.org/stable/modules/preprocessing.html\n",
            "Please also refer to the documentation for alternative solver options:\n",
            "    https://scikit-learn.org/stable/modules/linear_model.html#logistic-regression\n",
            "  extra_warning_msg=_LOGISTIC_SOLVER_CONVERGENCE_MSG)\n",
            "/usr/local/lib/python3.7/dist-packages/sklearn/linear_model/_logistic.py:940: ConvergenceWarning: lbfgs failed to converge (status=1):\n",
            "STOP: TOTAL NO. of ITERATIONS REACHED LIMIT.\n",
            "\n",
            "Increase the number of iterations (max_iter) or scale the data as shown in:\n",
            "    https://scikit-learn.org/stable/modules/preprocessing.html\n",
            "Please also refer to the documentation for alternative solver options:\n",
            "    https://scikit-learn.org/stable/modules/linear_model.html#logistic-regression\n",
            "  extra_warning_msg=_LOGISTIC_SOLVER_CONVERGENCE_MSG)\n",
            "/usr/local/lib/python3.7/dist-packages/sklearn/linear_model/_logistic.py:940: ConvergenceWarning: lbfgs failed to converge (status=1):\n",
            "STOP: TOTAL NO. of ITERATIONS REACHED LIMIT.\n",
            "\n",
            "Increase the number of iterations (max_iter) or scale the data as shown in:\n",
            "    https://scikit-learn.org/stable/modules/preprocessing.html\n",
            "Please also refer to the documentation for alternative solver options:\n",
            "    https://scikit-learn.org/stable/modules/linear_model.html#logistic-regression\n",
            "  extra_warning_msg=_LOGISTIC_SOLVER_CONVERGENCE_MSG)\n",
            "/usr/local/lib/python3.7/dist-packages/sklearn/linear_model/_logistic.py:940: ConvergenceWarning: lbfgs failed to converge (status=1):\n",
            "STOP: TOTAL NO. of ITERATIONS REACHED LIMIT.\n",
            "\n",
            "Increase the number of iterations (max_iter) or scale the data as shown in:\n",
            "    https://scikit-learn.org/stable/modules/preprocessing.html\n",
            "Please also refer to the documentation for alternative solver options:\n",
            "    https://scikit-learn.org/stable/modules/linear_model.html#logistic-regression\n",
            "  extra_warning_msg=_LOGISTIC_SOLVER_CONVERGENCE_MSG)\n",
            "/usr/local/lib/python3.7/dist-packages/sklearn/linear_model/_logistic.py:940: ConvergenceWarning: lbfgs failed to converge (status=1):\n",
            "STOP: TOTAL NO. of ITERATIONS REACHED LIMIT.\n",
            "\n",
            "Increase the number of iterations (max_iter) or scale the data as shown in:\n",
            "    https://scikit-learn.org/stable/modules/preprocessing.html\n",
            "Please also refer to the documentation for alternative solver options:\n",
            "    https://scikit-learn.org/stable/modules/linear_model.html#logistic-regression\n",
            "  extra_warning_msg=_LOGISTIC_SOLVER_CONVERGENCE_MSG)\n"
          ],
          "name": "stderr"
        },
        {
          "output_type": "display_data",
          "data": {
            "image/png": "[encoded data removed]",
            "text/plain": [
              "<Figure size 432x288 with 1 Axes>"
            ]
          },
          "metadata": {
            "tags": [],
            "needs_background": "light"
          }
        }
      ]
    },
    {
      "cell_type": "markdown",
      "metadata": {
        "id": "eg-3vRi4-JEa"
      },
      "source": [
        " Tal como el metodo *learning_curve*, el metodo *validation_curve* en default utiliza *k-fold cross-validation* y califica la especificacion del modelo si es que se utiliza algoritmo de clasificacion. Para este caso, utiliza el parametro **C** \n",
        "\n",
        " ---\n",
        "$C = \\frac{1}{\\lambda}$  \n",
        "\n",
        "*pag 65*\n",
        "\n",
        "---\n",
        "\n",
        "**param name** se utiliza para entrar en *Logistic Regression* del pipeline (*pipe_lr*)\n",
        "\n",
        "Para este caso se observa que **C = 0.1* llega al mejor resultado.\n"
      ]
    },
    {
      "cell_type": "markdown",
      "metadata": {
        "id": "ghTkDn3_AAzI"
      },
      "source": [
        "##**Afinacion de modelo de aprendizaje por Gread Research**\n",
        "\n",
        " En Machine learning existe dos tipos de parametros. Uno de ellos es el parametro que se aprende por training data tal como el peso de regresion logistica, y por otro, unos parametros que se optimiza de forma particular. Este se conoce como *hyperparametro*. Por ejemplo, el parametro de normalizacion de regresion logistica o parametro de afinacion de profundidad de arbol de desicion.\n",
        "\n",
        " #**Afinacion de hiperparametro utilizando grid research.**\n",
        "\n",
        " "
      ]
    },
    {
      "cell_type": "code",
      "metadata": {
        "colab": {
          "base_uri": "https://localhost:8080/"
        },
        "id": "37NQhUg-Ay8B",
        "outputId": "05afabdd-8658-4220-c9c3-b9d0688a3395"
      },
      "source": [
        "from sklearn.model_selection import GridSearchCV\n",
        "from sklearn.svm import SVC\n",
        "pipe_svc = make_pipeline(StandardScaler(),SVC(random_state=1))\n",
        "param_range = [0.0001,0.001,0.01,0.1,1.0,10.0,100.0,1000.0]\n",
        "param_grid = [{'svc__C':param_range,'svc__kernel':['lineal']},\n",
        "              {'svc__C':param_range,'svc__gamma':param_range,'svc__kernel':['rbf']}]\n",
        "\n",
        "gs = GridSearchCV(estimator=pipe_svc,\n",
        "                  param_grid=param_grid,\n",
        "                  scoring = 'accuracy',\n",
        "                  cv=10,\n",
        "                  n_jobs=-1)\n",
        "\n",
        "gs = gs.fit(X_train,y_train)\n",
        "\n",
        "print(gs.best_score_)\n",
        "\n",
        "print(gs.best_params_)"
      ],
      "execution_count": 27,
      "outputs": [
        {
          "output_type": "stream",
          "text": [
            "0.9846859903381642\n",
            "{'svc__C': 100.0, 'svc__gamma': 0.001, 'svc__kernel': 'rbf'}\n"
          ],
          "name": "stdout"
        }
      ]
    },
    {
      "cell_type": "markdown",
      "metadata": {
        "id": "fzlvN1GwCi6P"
      },
      "source": [
        " Este codigo, inicializa el objeto **GridSearchCV** de la libreria **model_selection**, luego afina y entrena el **Support Vector Machine(SVM)** \n",
        "\n",
        " ---\n",
        "\n",
        "  *Support vector machine : Ampliacion de Perceptron. (Pag.66)\n",
        "\n",
        "\n",
        "  ---\n",
        "\n",
        " Para seleccionar los parametro de afinacion, se setea un diccionario en el variable **param_grid** de **GridSearchCV**. En SVM Lineal, solamente se califica **C**. En *SVM Kernel RBF* se califica el parametro **C** y **Gamma**. "
      ]
    },
    {
      "cell_type": "code",
      "metadata": {
        "colab": {
          "base_uri": "https://localhost:8080/"
        },
        "id": "GLozGEqIDzjX",
        "outputId": "8f54a683-1236-4940-e83d-2c513b63a332"
      },
      "source": [
        "clf = gs.best_estimator_\n",
        "clf.fit(X_train,y_train)\n",
        "print('Test accuracy: %.3f' % clf.score(X_test,y_test))"
      ],
      "execution_count": 28,
      "outputs": [
        {
          "output_type": "stream",
          "text": [
            "Test accuracy: 0.974\n"
          ],
          "name": "stdout"
        }
      ]
    }
  ]
}