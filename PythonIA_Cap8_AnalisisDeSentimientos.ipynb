{
  "nbformat": 4,
  "nbformat_minor": 0,
  "metadata": {
    "colab": {
      "name": "PythonIA_Cap8_AnalisisDeSentimientos.ipynb",
      "provenance": [],
      "collapsed_sections": [],
      "toc_visible": true,
      "authorship_tag": "ABX9TyNIPaHNYgPkxHhQGGsO+V/g",
      "include_colab_link": true
    },
    "kernelspec": {
      "name": "python3",
      "display_name": "Python 3"
    },
    "language_info": {
      "name": "python"
    }
  },
  "cells": [
    {
      "cell_type": "markdown",
      "metadata": {
        "id": "view-in-github",
        "colab_type": "text"
      },
      "source": [
        "<a href=\"https://colab.research.google.com/github/rkurFIUNA/1ParcialIA/blob/main/PythonIA_Cap8_AnalisisDeSentimientos.ipynb\" target=\"_parent\"><img src=\"https://colab.research.google.com/assets/colab-badge.svg\" alt=\"Open In Colab\"/></a>"
      ]
    },
    {
      "cell_type": "code",
      "metadata": {
        "colab": {
          "base_uri": "https://localhost:8080/"
        },
        "id": "FTKfiqVzrW-c",
        "outputId": "2336f9a9-5b9a-435a-f2b5-53bb96e5de92"
      },
      "source": [
        "from google.colab import drive\n",
        "drive.mount('/content/drive')"
      ],
      "execution_count": 1,
      "outputs": [
        {
          "output_type": "stream",
          "text": [
            "Mounted at /content/drive\n"
          ],
          "name": "stdout"
        }
      ]
    },
    {
      "cell_type": "code",
      "metadata": {
        "colab": {
          "base_uri": "https://localhost:8080/"
        },
        "id": "76YZPQYcri4H",
        "outputId": "821ebb1d-407f-4cd9-b299-b72bfcd9f54d"
      },
      "source": [
        "!pip install pyprind"
      ],
      "execution_count": 2,
      "outputs": [
        {
          "output_type": "stream",
          "text": [
            "Collecting pyprind\n",
            "  Downloading https://files.pythonhosted.org/packages/ab/b3/1f12ebc5009c65b607509393ad98240728b4401bc3593868fb161fdd3760/PyPrind-2.11.3-py2.py3-none-any.whl\n",
            "Installing collected packages: pyprind\n",
            "Successfully installed pyprind-2.11.3\n"
          ],
          "name": "stdout"
        }
      ]
    },
    {
      "cell_type": "code",
      "metadata": {
        "colab": {
          "base_uri": "https://localhost:8080/"
        },
        "id": "Y1119umeJJD7",
        "outputId": "ee9e8018-4db9-4c7e-8b28-899415ae8fab"
      },
      "source": [
        "import pyprind\n",
        "import pandas as pd\n",
        "import os\n",
        "pbar = pyprind.ProgBar(50000)\n",
        "labels = {'pos':1,'neg':0}\n",
        "df = pd.DataFrame()\n",
        "for s in ('test','train'):\n",
        "  for l in ('pos','neg'):\n",
        "    path = '/content/drive/MyDrive/PythonDatasets/aclImdb/%s/%s' %(s,l)\n",
        "    print('\\nPath%s' %path)\n",
        "    for file in os.listdir(path):\n",
        "      with open(os.path.join(path,file),'r',encoding='utf-8') as infile:\n",
        "        txt = infile.read()\n",
        "      df = df.append([[txt,labels[l]]],ignore_index=True)\n",
        "      pbar.update()\n",
        "df.columns=['review','sentiment']"
      ],
      "execution_count": null,
      "outputs": [
        {
          "output_type": "stream",
          "text": [
            "\n",
            "Path/content/drive/MyDrive/PythonDatasets/aclImdb/test/pos\n"
          ],
          "name": "stdout"
        }
      ]
    }
  ]
}